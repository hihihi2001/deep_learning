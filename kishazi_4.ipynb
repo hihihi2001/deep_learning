{
  "nbformat": 4,
  "nbformat_minor": 0,
  "metadata": {
    "accelerator": "GPU",
    "colab": {
      "name": "DL_kishf4.ipynb",
      "provenance": [],
      "collapsed_sections": []
    },
    "kernelspec": {
      "display_name": "Python 3",
      "name": "python3"
    },
    "language_info": {
      "name": "python"
    }
  },
  "cells": [
    {
      "cell_type": "markdown",
      "metadata": {
        "id": "MwzKU-o7h_Nl"
      },
      "source": [
        "[![Open In Colab](https://colab.research.google.com/assets/colab-badge.svg)](https://colab.research.google.com/drive/1n_uyAy7ihTy2JI3kUdFOq2prm5MFjWy6?usp=sharing)"
      ]
    },
    {
      "cell_type": "code",
      "metadata": {
        "colab": {
          "base_uri": "https://localhost:8080/"
        },
        "collapsed": true,
        "id": "qpzv5paelpeR",
        "outputId": "83b39566-1958-48e2-d857-56e630b8ef26"
      },
      "source": [
        "# Install the required libaries\n",
        "!pip install fiftyone\n",
        "!pip install tensorflow torch torchvision umap-learn\n",
        "!pip install ipywidgets>=7.5"
      ],
      "execution_count": 1,
      "outputs": [
        {
          "output_type": "stream",
          "name": "stdout",
          "text": [
            "Collecting fiftyone\n",
            "  Downloading fiftyone-0.14.2-py3-none-any.whl (1.2 MB)\n",
            "\u001b[?25l\r\u001b[K     |▎                               | 10 kB 24.1 MB/s eta 0:00:01\r\u001b[K     |▌                               | 20 kB 26.6 MB/s eta 0:00:01\r\u001b[K     |▉                               | 30 kB 24.0 MB/s eta 0:00:01\r\u001b[K     |█                               | 40 kB 17.5 MB/s eta 0:00:01\r\u001b[K     |█▍                              | 51 kB 14.4 MB/s eta 0:00:01\r\u001b[K     |█▋                              | 61 kB 10.8 MB/s eta 0:00:01\r\u001b[K     |██                              | 71 kB 12.0 MB/s eta 0:00:01\r\u001b[K     |██▏                             | 81 kB 13.3 MB/s eta 0:00:01\r\u001b[K     |██▌                             | 92 kB 11.5 MB/s eta 0:00:01\r\u001b[K     |██▊                             | 102 kB 12.3 MB/s eta 0:00:01\r\u001b[K     |███                             | 112 kB 12.3 MB/s eta 0:00:01\r\u001b[K     |███▎                            | 122 kB 12.3 MB/s eta 0:00:01\r\u001b[K     |███▌                            | 133 kB 12.3 MB/s eta 0:00:01\r\u001b[K     |███▉                            | 143 kB 12.3 MB/s eta 0:00:01\r\u001b[K     |████                            | 153 kB 12.3 MB/s eta 0:00:01\r\u001b[K     |████▍                           | 163 kB 12.3 MB/s eta 0:00:01\r\u001b[K     |████▋                           | 174 kB 12.3 MB/s eta 0:00:01\r\u001b[K     |█████                           | 184 kB 12.3 MB/s eta 0:00:01\r\u001b[K     |█████▏                          | 194 kB 12.3 MB/s eta 0:00:01\r\u001b[K     |█████▍                          | 204 kB 12.3 MB/s eta 0:00:01\r\u001b[K     |█████▊                          | 215 kB 12.3 MB/s eta 0:00:01\r\u001b[K     |██████                          | 225 kB 12.3 MB/s eta 0:00:01\r\u001b[K     |██████▎                         | 235 kB 12.3 MB/s eta 0:00:01\r\u001b[K     |██████▌                         | 245 kB 12.3 MB/s eta 0:00:01\r\u001b[K     |██████▉                         | 256 kB 12.3 MB/s eta 0:00:01\r\u001b[K     |███████                         | 266 kB 12.3 MB/s eta 0:00:01\r\u001b[K     |███████▍                        | 276 kB 12.3 MB/s eta 0:00:01\r\u001b[K     |███████▋                        | 286 kB 12.3 MB/s eta 0:00:01\r\u001b[K     |███████▉                        | 296 kB 12.3 MB/s eta 0:00:01\r\u001b[K     |████████▏                       | 307 kB 12.3 MB/s eta 0:00:01\r\u001b[K     |████████▍                       | 317 kB 12.3 MB/s eta 0:00:01\r\u001b[K     |████████▊                       | 327 kB 12.3 MB/s eta 0:00:01\r\u001b[K     |█████████                       | 337 kB 12.3 MB/s eta 0:00:01\r\u001b[K     |█████████▎                      | 348 kB 12.3 MB/s eta 0:00:01\r\u001b[K     |█████████▌                      | 358 kB 12.3 MB/s eta 0:00:01\r\u001b[K     |█████████▉                      | 368 kB 12.3 MB/s eta 0:00:01\r\u001b[K     |██████████                      | 378 kB 12.3 MB/s eta 0:00:01\r\u001b[K     |██████████▍                     | 389 kB 12.3 MB/s eta 0:00:01\r\u001b[K     |██████████▋                     | 399 kB 12.3 MB/s eta 0:00:01\r\u001b[K     |██████████▉                     | 409 kB 12.3 MB/s eta 0:00:01\r\u001b[K     |███████████▏                    | 419 kB 12.3 MB/s eta 0:00:01\r\u001b[K     |███████████▍                    | 430 kB 12.3 MB/s eta 0:00:01\r\u001b[K     |███████████▊                    | 440 kB 12.3 MB/s eta 0:00:01\r\u001b[K     |████████████                    | 450 kB 12.3 MB/s eta 0:00:01\r\u001b[K     |████████████▎                   | 460 kB 12.3 MB/s eta 0:00:01\r\u001b[K     |████████████▌                   | 471 kB 12.3 MB/s eta 0:00:01\r\u001b[K     |████████████▉                   | 481 kB 12.3 MB/s eta 0:00:01\r\u001b[K     |█████████████                   | 491 kB 12.3 MB/s eta 0:00:01\r\u001b[K     |█████████████▎                  | 501 kB 12.3 MB/s eta 0:00:01\r\u001b[K     |█████████████▋                  | 512 kB 12.3 MB/s eta 0:00:01\r\u001b[K     |█████████████▉                  | 522 kB 12.3 MB/s eta 0:00:01\r\u001b[K     |██████████████▏                 | 532 kB 12.3 MB/s eta 0:00:01\r\u001b[K     |██████████████▍                 | 542 kB 12.3 MB/s eta 0:00:01\r\u001b[K     |██████████████▊                 | 552 kB 12.3 MB/s eta 0:00:01\r\u001b[K     |███████████████                 | 563 kB 12.3 MB/s eta 0:00:01\r\u001b[K     |███████████████▎                | 573 kB 12.3 MB/s eta 0:00:01\r\u001b[K     |███████████████▌                | 583 kB 12.3 MB/s eta 0:00:01\r\u001b[K     |███████████████▊                | 593 kB 12.3 MB/s eta 0:00:01\r\u001b[K     |████████████████                | 604 kB 12.3 MB/s eta 0:00:01\r\u001b[K     |████████████████▎               | 614 kB 12.3 MB/s eta 0:00:01\r\u001b[K     |████████████████▋               | 624 kB 12.3 MB/s eta 0:00:01\r\u001b[K     |████████████████▉               | 634 kB 12.3 MB/s eta 0:00:01\r\u001b[K     |█████████████████▏              | 645 kB 12.3 MB/s eta 0:00:01\r\u001b[K     |█████████████████▍              | 655 kB 12.3 MB/s eta 0:00:01\r\u001b[K     |█████████████████▊              | 665 kB 12.3 MB/s eta 0:00:01\r\u001b[K     |██████████████████              | 675 kB 12.3 MB/s eta 0:00:01\r\u001b[K     |██████████████████▎             | 686 kB 12.3 MB/s eta 0:00:01\r\u001b[K     |██████████████████▌             | 696 kB 12.3 MB/s eta 0:00:01\r\u001b[K     |██████████████████▊             | 706 kB 12.3 MB/s eta 0:00:01\r\u001b[K     |███████████████████             | 716 kB 12.3 MB/s eta 0:00:01\r\u001b[K     |███████████████████▎            | 727 kB 12.3 MB/s eta 0:00:01\r\u001b[K     |███████████████████▋            | 737 kB 12.3 MB/s eta 0:00:01\r\u001b[K     |███████████████████▉            | 747 kB 12.3 MB/s eta 0:00:01\r\u001b[K     |████████████████████▏           | 757 kB 12.3 MB/s eta 0:00:01\r\u001b[K     |████████████████████▍           | 768 kB 12.3 MB/s eta 0:00:01\r\u001b[K     |████████████████████▊           | 778 kB 12.3 MB/s eta 0:00:01\r\u001b[K     |█████████████████████           | 788 kB 12.3 MB/s eta 0:00:01\r\u001b[K     |█████████████████████▏          | 798 kB 12.3 MB/s eta 0:00:01\r\u001b[K     |█████████████████████▌          | 808 kB 12.3 MB/s eta 0:00:01\r\u001b[K     |█████████████████████▊          | 819 kB 12.3 MB/s eta 0:00:01\r\u001b[K     |██████████████████████          | 829 kB 12.3 MB/s eta 0:00:01\r\u001b[K     |██████████████████████▎         | 839 kB 12.3 MB/s eta 0:00:01\r\u001b[K     |██████████████████████▋         | 849 kB 12.3 MB/s eta 0:00:01\r\u001b[K     |██████████████████████▉         | 860 kB 12.3 MB/s eta 0:00:01\r\u001b[K     |███████████████████████▏        | 870 kB 12.3 MB/s eta 0:00:01\r\u001b[K     |███████████████████████▍        | 880 kB 12.3 MB/s eta 0:00:01\r\u001b[K     |███████████████████████▋        | 890 kB 12.3 MB/s eta 0:00:01\r\u001b[K     |████████████████████████        | 901 kB 12.3 MB/s eta 0:00:01\r\u001b[K     |████████████████████████▏       | 911 kB 12.3 MB/s eta 0:00:01\r\u001b[K     |████████████████████████▌       | 921 kB 12.3 MB/s eta 0:00:01\r\u001b[K     |████████████████████████▊       | 931 kB 12.3 MB/s eta 0:00:01\r\u001b[K     |█████████████████████████       | 942 kB 12.3 MB/s eta 0:00:01\r\u001b[K     |█████████████████████████▎      | 952 kB 12.3 MB/s eta 0:00:01\r\u001b[K     |█████████████████████████▋      | 962 kB 12.3 MB/s eta 0:00:01\r\u001b[K     |█████████████████████████▉      | 972 kB 12.3 MB/s eta 0:00:01\r\u001b[K     |██████████████████████████▏     | 983 kB 12.3 MB/s eta 0:00:01\r\u001b[K     |██████████████████████████▍     | 993 kB 12.3 MB/s eta 0:00:01\r\u001b[K     |██████████████████████████▋     | 1.0 MB 12.3 MB/s eta 0:00:01\r\u001b[K     |███████████████████████████     | 1.0 MB 12.3 MB/s eta 0:00:01\r\u001b[K     |███████████████████████████▏    | 1.0 MB 12.3 MB/s eta 0:00:01\r\u001b[K     |███████████████████████████▌    | 1.0 MB 12.3 MB/s eta 0:00:01\r\u001b[K     |███████████████████████████▊    | 1.0 MB 12.3 MB/s eta 0:00:01\r\u001b[K     |████████████████████████████    | 1.1 MB 12.3 MB/s eta 0:00:01\r\u001b[K     |████████████████████████████▎   | 1.1 MB 12.3 MB/s eta 0:00:01\r\u001b[K     |████████████████████████████▋   | 1.1 MB 12.3 MB/s eta 0:00:01\r\u001b[K     |████████████████████████████▉   | 1.1 MB 12.3 MB/s eta 0:00:01\r\u001b[K     |█████████████████████████████   | 1.1 MB 12.3 MB/s eta 0:00:01\r\u001b[K     |█████████████████████████████▍  | 1.1 MB 12.3 MB/s eta 0:00:01\r\u001b[K     |█████████████████████████████▋  | 1.1 MB 12.3 MB/s eta 0:00:01\r\u001b[K     |██████████████████████████████  | 1.1 MB 12.3 MB/s eta 0:00:01\r\u001b[K     |██████████████████████████████▏ | 1.1 MB 12.3 MB/s eta 0:00:01\r\u001b[K     |██████████████████████████████▌ | 1.1 MB 12.3 MB/s eta 0:00:01\r\u001b[K     |██████████████████████████████▊ | 1.2 MB 12.3 MB/s eta 0:00:01\r\u001b[K     |███████████████████████████████ | 1.2 MB 12.3 MB/s eta 0:00:01\r\u001b[K     |███████████████████████████████▎| 1.2 MB 12.3 MB/s eta 0:00:01\r\u001b[K     |███████████████████████████████▌| 1.2 MB 12.3 MB/s eta 0:00:01\r\u001b[K     |███████████████████████████████▉| 1.2 MB 12.3 MB/s eta 0:00:01\r\u001b[K     |████████████████████████████████| 1.2 MB 12.3 MB/s \n",
            "\u001b[?25hRequirement already satisfied: pandas in /usr/local/lib/python3.7/dist-packages (from fiftyone) (1.1.5)\n",
            "Collecting pprintpp\n",
            "  Downloading pprintpp-0.4.0-py2.py3-none-any.whl (16 kB)\n",
            "Collecting xmltodict\n",
            "  Downloading xmltodict-0.12.0-py2.py3-none-any.whl (9.2 kB)\n",
            "Requirement already satisfied: psutil in /usr/local/lib/python3.7/dist-packages (from fiftyone) (5.4.8)\n",
            "Requirement already satisfied: setuptools in /usr/local/lib/python3.7/dist-packages (from fiftyone) (57.4.0)\n",
            "Collecting fiftyone-brain<0.8,>=0.7.2\n",
            "  Downloading fiftyone_brain-0.7.2-cp37-cp37m-manylinux1_x86_64.whl (639 kB)\n",
            "\u001b[K     |████████████████████████████████| 639 kB 46.1 MB/s \n",
            "\u001b[?25hRequirement already satisfied: pymongo<4,>=3.11 in /usr/local/lib/python3.7/dist-packages (from fiftyone) (3.12.1)\n",
            "Collecting fiftyone-db<0.4,>=0.3\n",
            "  Downloading fiftyone_db-0.3.0-py3-none-manylinux1_x86_64.whl (29.2 MB)\n",
            "\u001b[K     |████████████████████████████████| 29.2 MB 50.4 MB/s \n",
            "\u001b[?25hCollecting eventlet\n",
            "  Downloading eventlet-0.33.0-py2.py3-none-any.whl (226 kB)\n",
            "\u001b[K     |████████████████████████████████| 226 kB 50.5 MB/s \n",
            "\u001b[?25hRequirement already satisfied: PyYAML in /usr/local/lib/python3.7/dist-packages (from fiftyone) (3.13)\n",
            "Collecting boto3\n",
            "  Downloading boto3-1.20.13-py3-none-any.whl (131 kB)\n",
            "\u001b[K     |████████████████████████████████| 131 kB 48.3 MB/s \n",
            "\u001b[?25hRequirement already satisfied: Pillow>=6.2 in /usr/local/lib/python3.7/dist-packages (from fiftyone) (7.1.2)\n",
            "Requirement already satisfied: Jinja2 in /usr/local/lib/python3.7/dist-packages (from fiftyone) (2.11.3)\n",
            "Requirement already satisfied: future in /usr/local/lib/python3.7/dist-packages (from fiftyone) (0.16.0)\n",
            "Collecting Deprecated\n",
            "  Downloading Deprecated-1.2.13-py2.py3-none-any.whl (9.6 kB)\n",
            "Requirement already satisfied: matplotlib in /usr/local/lib/python3.7/dist-packages (from fiftyone) (3.2.2)\n",
            "Collecting universal-analytics-python3<2,>=1.0.1\n",
            "  Downloading universal_analytics_python3-1.1.1-py3-none-any.whl (10 kB)\n",
            "Collecting plotly<5,>=4.14\n",
            "  Downloading plotly-4.14.3-py2.py3-none-any.whl (13.2 MB)\n",
            "\u001b[K     |████████████████████████████████| 13.2 MB 50.8 MB/s \n",
            "\u001b[?25hRequirement already satisfied: retrying in /usr/local/lib/python3.7/dist-packages (from fiftyone) (1.3.3)\n",
            "Collecting voxel51-eta<0.7,>=0.6.1\n",
            "  Downloading voxel51_eta-0.6.1-py2.py3-none-any.whl (562 kB)\n",
            "\u001b[K     |████████████████████████████████| 562 kB 51.9 MB/s \n",
            "\u001b[?25hRequirement already satisfied: scikit-image in /usr/local/lib/python3.7/dist-packages (from fiftyone) (0.18.3)\n",
            "Requirement already satisfied: packaging in /usr/local/lib/python3.7/dist-packages (from fiftyone) (21.3)\n",
            "Collecting mongoengine==0.20.0\n",
            "  Downloading mongoengine-0.20.0-py3-none-any.whl (106 kB)\n",
            "\u001b[K     |████████████████████████████████| 106 kB 53.4 MB/s \n",
            "\u001b[?25hRequirement already satisfied: numpy in /usr/local/lib/python3.7/dist-packages (from fiftyone) (1.19.5)\n",
            "Requirement already satisfied: tornado<7,>=5.1.1 in /usr/local/lib/python3.7/dist-packages (from fiftyone) (5.1.1)\n",
            "Requirement already satisfied: pytz in /usr/local/lib/python3.7/dist-packages (from fiftyone) (2018.9)\n",
            "Collecting aiofiles\n",
            "  Downloading aiofiles-0.7.0-py3-none-any.whl (13 kB)\n",
            "Collecting motor<3,>=2.3\n",
            "  Downloading motor-2.5.1-py3-none-any.whl (55 kB)\n",
            "\u001b[K     |████████████████████████████████| 55 kB 3.0 MB/s \n",
            "\u001b[?25hCollecting opencv-python-headless\n",
            "  Downloading opencv_python_headless-4.5.4.60-cp37-cp37m-manylinux_2_17_x86_64.manylinux2014_x86_64.whl (47.6 MB)\n",
            "\u001b[K     |████████████████████████████████| 47.6 MB 71 kB/s \n",
            "\u001b[?25hCollecting kaleido\n",
            "  Downloading kaleido-0.2.1-py2.py3-none-manylinux1_x86_64.whl (79.9 MB)\n",
            "\u001b[K     |████████████████████████████████| 79.9 MB 120 kB/s \n",
            "\u001b[?25hRequirement already satisfied: scikit-learn in /usr/local/lib/python3.7/dist-packages (from fiftyone) (1.0.1)\n",
            "Requirement already satisfied: tabulate in /usr/local/lib/python3.7/dist-packages (from fiftyone) (0.8.9)\n",
            "Requirement already satisfied: argcomplete in /usr/local/lib/python3.7/dist-packages (from fiftyone) (1.12.3)\n",
            "Requirement already satisfied: scipy>=1.2.0 in /usr/local/lib/python3.7/dist-packages (from fiftyone-brain<0.8,>=0.7.2->fiftyone) (1.4.1)\n",
            "Requirement already satisfied: six in /usr/local/lib/python3.7/dist-packages (from plotly<5,>=4.14->fiftyone) (1.15.0)\n",
            "Collecting httpx>=0.10.0\n",
            "  Downloading httpx-0.21.1-py3-none-any.whl (83 kB)\n",
            "\u001b[K     |████████████████████████████████| 83 kB 1.9 MB/s \n",
            "\u001b[?25hCollecting rfc3986[idna2008]<2,>=1.3\n",
            "  Downloading rfc3986-1.5.0-py2.py3-none-any.whl (31 kB)\n",
            "Requirement already satisfied: charset-normalizer in /usr/local/lib/python3.7/dist-packages (from httpx>=0.10.0->universal-analytics-python3<2,>=1.0.1->fiftyone) (2.0.7)\n",
            "Requirement already satisfied: certifi in /usr/local/lib/python3.7/dist-packages (from httpx>=0.10.0->universal-analytics-python3<2,>=1.0.1->fiftyone) (2021.10.8)\n",
            "Collecting httpcore<0.15.0,>=0.14.0\n",
            "  Downloading httpcore-0.14.3-py3-none-any.whl (56 kB)\n",
            "\u001b[K     |████████████████████████████████| 56 kB 4.4 MB/s \n",
            "\u001b[?25hCollecting sniffio\n",
            "  Downloading sniffio-1.2.0-py3-none-any.whl (10 kB)\n",
            "Collecting anyio==3.*\n",
            "  Downloading anyio-3.4.0-py3-none-any.whl (78 kB)\n",
            "\u001b[K     |████████████████████████████████| 78 kB 7.1 MB/s \n",
            "\u001b[?25hCollecting h11<0.13,>=0.11\n",
            "  Downloading h11-0.12.0-py3-none-any.whl (54 kB)\n",
            "\u001b[K     |████████████████████████████████| 54 kB 3.3 MB/s \n",
            "\u001b[?25hRequirement already satisfied: typing-extensions in /usr/local/lib/python3.7/dist-packages (from anyio==3.*->httpcore<0.15.0,>=0.14.0->httpx>=0.10.0->universal-analytics-python3<2,>=1.0.1->fiftyone) (3.10.0.2)\n",
            "Requirement already satisfied: idna>=2.8 in /usr/local/lib/python3.7/dist-packages (from anyio==3.*->httpcore<0.15.0,>=0.14.0->httpx>=0.10.0->universal-analytics-python3<2,>=1.0.1->fiftyone) (2.10)\n",
            "Requirement already satisfied: glob2 in /usr/local/lib/python3.7/dist-packages (from voxel51-eta<0.7,>=0.6.1->fiftyone) (0.7)\n",
            "Collecting patool\n",
            "  Downloading patool-1.12-py2.py3-none-any.whl (77 kB)\n",
            "\u001b[K     |████████████████████████████████| 77 kB 6.3 MB/s \n",
            "\u001b[?25hRequirement already satisfied: importlib-metadata in /usr/local/lib/python3.7/dist-packages (from voxel51-eta<0.7,>=0.6.1->fiftyone) (4.8.2)\n",
            "Requirement already satisfied: sortedcontainers in /usr/local/lib/python3.7/dist-packages (from voxel51-eta<0.7,>=0.6.1->fiftyone) (2.4.0)\n",
            "Requirement already satisfied: tzlocal in /usr/local/lib/python3.7/dist-packages (from voxel51-eta<0.7,>=0.6.1->fiftyone) (1.5.1)\n",
            "Requirement already satisfied: python-dateutil in /usr/local/lib/python3.7/dist-packages (from voxel51-eta<0.7,>=0.6.1->fiftyone) (2.8.2)\n",
            "Requirement already satisfied: requests in /usr/local/lib/python3.7/dist-packages (from voxel51-eta<0.7,>=0.6.1->fiftyone) (2.23.0)\n",
            "Collecting ndjson\n",
            "  Downloading ndjson-0.3.1-py2.py3-none-any.whl (5.3 kB)\n",
            "Requirement already satisfied: dill in /usr/local/lib/python3.7/dist-packages (from voxel51-eta<0.7,>=0.6.1->fiftyone) (0.3.4)\n",
            "Requirement already satisfied: zipp>=0.5 in /usr/local/lib/python3.7/dist-packages (from importlib-metadata->voxel51-eta<0.7,>=0.6.1->fiftyone) (3.6.0)\n",
            "Collecting botocore<1.24.0,>=1.23.13\n",
            "  Downloading botocore-1.23.13-py3-none-any.whl (8.2 MB)\n",
            "\u001b[K     |████████████████████████████████| 8.2 MB 34.5 MB/s \n",
            "\u001b[?25hCollecting jmespath<1.0.0,>=0.7.1\n",
            "  Downloading jmespath-0.10.0-py2.py3-none-any.whl (24 kB)\n",
            "Collecting s3transfer<0.6.0,>=0.5.0\n",
            "  Downloading s3transfer-0.5.0-py3-none-any.whl (79 kB)\n",
            "\u001b[K     |████████████████████████████████| 79 kB 7.6 MB/s \n",
            "\u001b[?25hCollecting urllib3<1.27,>=1.25.4\n",
            "  Downloading urllib3-1.26.7-py2.py3-none-any.whl (138 kB)\n",
            "\u001b[K     |████████████████████████████████| 138 kB 57.0 MB/s \n",
            "\u001b[?25hRequirement already satisfied: wrapt<2,>=1.10 in /usr/local/lib/python3.7/dist-packages (from Deprecated->fiftyone) (1.13.3)\n",
            "Collecting dnspython>=1.15.0\n",
            "  Downloading dnspython-2.1.0-py3-none-any.whl (241 kB)\n",
            "\u001b[K     |████████████████████████████████| 241 kB 50.7 MB/s \n",
            "\u001b[?25hRequirement already satisfied: greenlet>=0.3 in /usr/local/lib/python3.7/dist-packages (from eventlet->fiftyone) (1.1.2)\n",
            "Requirement already satisfied: MarkupSafe>=0.23 in /usr/local/lib/python3.7/dist-packages (from Jinja2->fiftyone) (2.0.1)\n",
            "Requirement already satisfied: kiwisolver>=1.0.1 in /usr/local/lib/python3.7/dist-packages (from matplotlib->fiftyone) (1.3.2)\n",
            "Requirement already satisfied: cycler>=0.10 in /usr/local/lib/python3.7/dist-packages (from matplotlib->fiftyone) (0.11.0)\n",
            "Requirement already satisfied: pyparsing!=2.0.4,!=2.1.2,!=2.1.6,>=2.0.1 in /usr/local/lib/python3.7/dist-packages (from matplotlib->fiftyone) (3.0.6)\n",
            "Collecting urllib3<1.27,>=1.25.4\n",
            "  Downloading urllib3-1.25.11-py2.py3-none-any.whl (127 kB)\n",
            "\u001b[K     |████████████████████████████████| 127 kB 49.4 MB/s \n",
            "\u001b[?25hRequirement already satisfied: chardet<4,>=3.0.2 in /usr/local/lib/python3.7/dist-packages (from requests->voxel51-eta<0.7,>=0.6.1->fiftyone) (3.0.4)\n",
            "Requirement already satisfied: imageio>=2.3.0 in /usr/local/lib/python3.7/dist-packages (from scikit-image->fiftyone) (2.4.1)\n",
            "Requirement already satisfied: tifffile>=2019.7.26 in /usr/local/lib/python3.7/dist-packages (from scikit-image->fiftyone) (2021.11.2)\n",
            "Requirement already satisfied: networkx>=2.0 in /usr/local/lib/python3.7/dist-packages (from scikit-image->fiftyone) (2.6.3)\n",
            "Requirement already satisfied: PyWavelets>=1.1.1 in /usr/local/lib/python3.7/dist-packages (from scikit-image->fiftyone) (1.2.0)\n",
            "Requirement already satisfied: joblib>=0.11 in /usr/local/lib/python3.7/dist-packages (from scikit-learn->fiftyone) (1.1.0)\n",
            "Requirement already satisfied: threadpoolctl>=2.0.0 in /usr/local/lib/python3.7/dist-packages (from scikit-learn->fiftyone) (3.0.0)\n",
            "Installing collected packages: sniffio, urllib3, rfc3986, jmespath, h11, anyio, httpcore, botocore, s3transfer, patool, opencv-python-headless, ndjson, httpx, dnspython, xmltodict, voxel51-eta, universal-analytics-python3, pprintpp, plotly, motor, mongoengine, kaleido, fiftyone-db, fiftyone-brain, eventlet, Deprecated, boto3, aiofiles, fiftyone\n",
            "  Attempting uninstall: urllib3\n",
            "    Found existing installation: urllib3 1.24.3\n",
            "    Uninstalling urllib3-1.24.3:\n",
            "      Successfully uninstalled urllib3-1.24.3\n",
            "  Attempting uninstall: plotly\n",
            "    Found existing installation: plotly 4.4.1\n",
            "    Uninstalling plotly-4.4.1:\n",
            "      Successfully uninstalled plotly-4.4.1\n",
            "\u001b[31mERROR: pip's dependency resolver does not currently take into account all the packages that are installed. This behaviour is the source of the following dependency conflicts.\n",
            "datascience 0.10.6 requires folium==0.2.1, but you have folium 0.8.3 which is incompatible.\u001b[0m\n",
            "Successfully installed Deprecated-1.2.13 aiofiles-0.7.0 anyio-3.4.0 boto3-1.20.13 botocore-1.23.13 dnspython-2.1.0 eventlet-0.33.0 fiftyone-0.14.2 fiftyone-brain-0.7.2 fiftyone-db-0.3.0 h11-0.12.0 httpcore-0.14.3 httpx-0.21.1 jmespath-0.10.0 kaleido-0.2.1 mongoengine-0.20.0 motor-2.5.1 ndjson-0.3.1 opencv-python-headless-4.5.4.60 patool-1.12 plotly-4.14.3 pprintpp-0.4.0 rfc3986-1.5.0 s3transfer-0.5.0 sniffio-1.2.0 universal-analytics-python3-1.1.1 urllib3-1.25.11 voxel51-eta-0.6.1 xmltodict-0.12.0\n",
            "Requirement already satisfied: tensorflow in /usr/local/lib/python3.7/dist-packages (2.7.0)\n",
            "Requirement already satisfied: torch in /usr/local/lib/python3.7/dist-packages (1.10.0+cu111)\n",
            "Requirement already satisfied: torchvision in /usr/local/lib/python3.7/dist-packages (0.11.1+cu111)\n",
            "Collecting umap-learn\n",
            "  Downloading umap-learn-0.5.2.tar.gz (86 kB)\n",
            "\u001b[K     |████████████████████████████████| 86 kB 4.2 MB/s \n",
            "\u001b[?25hRequirement already satisfied: google-pasta>=0.1.1 in /usr/local/lib/python3.7/dist-packages (from tensorflow) (0.2.0)\n",
            "Requirement already satisfied: keras<2.8,>=2.7.0rc0 in /usr/local/lib/python3.7/dist-packages (from tensorflow) (2.7.0)\n",
            "Requirement already satisfied: h5py>=2.9.0 in /usr/local/lib/python3.7/dist-packages (from tensorflow) (3.1.0)\n",
            "Requirement already satisfied: grpcio<2.0,>=1.24.3 in /usr/local/lib/python3.7/dist-packages (from tensorflow) (1.42.0)\n",
            "Requirement already satisfied: termcolor>=1.1.0 in /usr/local/lib/python3.7/dist-packages (from tensorflow) (1.1.0)\n",
            "Requirement already satisfied: absl-py>=0.4.0 in /usr/local/lib/python3.7/dist-packages (from tensorflow) (0.12.0)\n",
            "Requirement already satisfied: tensorflow-estimator<2.8,~=2.7.0rc0 in /usr/local/lib/python3.7/dist-packages (from tensorflow) (2.7.0)\n",
            "Requirement already satisfied: wheel<1.0,>=0.32.0 in /usr/local/lib/python3.7/dist-packages (from tensorflow) (0.37.0)\n",
            "Requirement already satisfied: astunparse>=1.6.0 in /usr/local/lib/python3.7/dist-packages (from tensorflow) (1.6.3)\n",
            "Requirement already satisfied: opt-einsum>=2.3.2 in /usr/local/lib/python3.7/dist-packages (from tensorflow) (3.3.0)\n",
            "Requirement already satisfied: six>=1.12.0 in /usr/local/lib/python3.7/dist-packages (from tensorflow) (1.15.0)\n",
            "Requirement already satisfied: numpy>=1.14.5 in /usr/local/lib/python3.7/dist-packages (from tensorflow) (1.19.5)\n",
            "Requirement already satisfied: tensorflow-io-gcs-filesystem>=0.21.0 in /usr/local/lib/python3.7/dist-packages (from tensorflow) (0.22.0)\n",
            "Requirement already satisfied: protobuf>=3.9.2 in /usr/local/lib/python3.7/dist-packages (from tensorflow) (3.17.3)\n",
            "Requirement already satisfied: gast<0.5.0,>=0.2.1 in /usr/local/lib/python3.7/dist-packages (from tensorflow) (0.4.0)\n",
            "Requirement already satisfied: libclang>=9.0.1 in /usr/local/lib/python3.7/dist-packages (from tensorflow) (12.0.0)\n",
            "Requirement already satisfied: flatbuffers<3.0,>=1.12 in /usr/local/lib/python3.7/dist-packages (from tensorflow) (2.0)\n",
            "Requirement already satisfied: typing-extensions>=3.6.6 in /usr/local/lib/python3.7/dist-packages (from tensorflow) (3.10.0.2)\n",
            "Requirement already satisfied: wrapt>=1.11.0 in /usr/local/lib/python3.7/dist-packages (from tensorflow) (1.13.3)\n",
            "Requirement already satisfied: keras-preprocessing>=1.1.1 in /usr/local/lib/python3.7/dist-packages (from tensorflow) (1.1.2)\n",
            "Requirement already satisfied: tensorboard~=2.6 in /usr/local/lib/python3.7/dist-packages (from tensorflow) (2.7.0)\n",
            "Requirement already satisfied: cached-property in /usr/local/lib/python3.7/dist-packages (from h5py>=2.9.0->tensorflow) (1.5.2)\n",
            "Requirement already satisfied: markdown>=2.6.8 in /usr/local/lib/python3.7/dist-packages (from tensorboard~=2.6->tensorflow) (3.3.6)\n",
            "Requirement already satisfied: requests<3,>=2.21.0 in /usr/local/lib/python3.7/dist-packages (from tensorboard~=2.6->tensorflow) (2.23.0)\n",
            "Requirement already satisfied: google-auth<3,>=1.6.3 in /usr/local/lib/python3.7/dist-packages (from tensorboard~=2.6->tensorflow) (1.35.0)\n",
            "Requirement already satisfied: tensorboard-data-server<0.7.0,>=0.6.0 in /usr/local/lib/python3.7/dist-packages (from tensorboard~=2.6->tensorflow) (0.6.1)\n",
            "Requirement already satisfied: tensorboard-plugin-wit>=1.6.0 in /usr/local/lib/python3.7/dist-packages (from tensorboard~=2.6->tensorflow) (1.8.0)\n",
            "Requirement already satisfied: werkzeug>=0.11.15 in /usr/local/lib/python3.7/dist-packages (from tensorboard~=2.6->tensorflow) (1.0.1)\n",
            "Requirement already satisfied: setuptools>=41.0.0 in /usr/local/lib/python3.7/dist-packages (from tensorboard~=2.6->tensorflow) (57.4.0)\n",
            "Requirement already satisfied: google-auth-oauthlib<0.5,>=0.4.1 in /usr/local/lib/python3.7/dist-packages (from tensorboard~=2.6->tensorflow) (0.4.6)\n",
            "Requirement already satisfied: cachetools<5.0,>=2.0.0 in /usr/local/lib/python3.7/dist-packages (from google-auth<3,>=1.6.3->tensorboard~=2.6->tensorflow) (4.2.4)\n",
            "Requirement already satisfied: rsa<5,>=3.1.4 in /usr/local/lib/python3.7/dist-packages (from google-auth<3,>=1.6.3->tensorboard~=2.6->tensorflow) (4.7.2)\n",
            "Requirement already satisfied: pyasn1-modules>=0.2.1 in /usr/local/lib/python3.7/dist-packages (from google-auth<3,>=1.6.3->tensorboard~=2.6->tensorflow) (0.2.8)\n",
            "Requirement already satisfied: requests-oauthlib>=0.7.0 in /usr/local/lib/python3.7/dist-packages (from google-auth-oauthlib<0.5,>=0.4.1->tensorboard~=2.6->tensorflow) (1.3.0)\n",
            "Requirement already satisfied: importlib-metadata>=4.4 in /usr/local/lib/python3.7/dist-packages (from markdown>=2.6.8->tensorboard~=2.6->tensorflow) (4.8.2)\n",
            "Requirement already satisfied: zipp>=0.5 in /usr/local/lib/python3.7/dist-packages (from importlib-metadata>=4.4->markdown>=2.6.8->tensorboard~=2.6->tensorflow) (3.6.0)\n",
            "Requirement already satisfied: pyasn1<0.5.0,>=0.4.6 in /usr/local/lib/python3.7/dist-packages (from pyasn1-modules>=0.2.1->google-auth<3,>=1.6.3->tensorboard~=2.6->tensorflow) (0.4.8)\n",
            "Requirement already satisfied: idna<3,>=2.5 in /usr/local/lib/python3.7/dist-packages (from requests<3,>=2.21.0->tensorboard~=2.6->tensorflow) (2.10)\n",
            "Requirement already satisfied: urllib3!=1.25.0,!=1.25.1,<1.26,>=1.21.1 in /usr/local/lib/python3.7/dist-packages (from requests<3,>=2.21.0->tensorboard~=2.6->tensorflow) (1.25.11)\n",
            "Requirement already satisfied: certifi>=2017.4.17 in /usr/local/lib/python3.7/dist-packages (from requests<3,>=2.21.0->tensorboard~=2.6->tensorflow) (2021.10.8)\n",
            "Requirement already satisfied: chardet<4,>=3.0.2 in /usr/local/lib/python3.7/dist-packages (from requests<3,>=2.21.0->tensorboard~=2.6->tensorflow) (3.0.4)\n",
            "Requirement already satisfied: oauthlib>=3.0.0 in /usr/local/lib/python3.7/dist-packages (from requests-oauthlib>=0.7.0->google-auth-oauthlib<0.5,>=0.4.1->tensorboard~=2.6->tensorflow) (3.1.1)\n",
            "Requirement already satisfied: pillow!=8.3.0,>=5.3.0 in /usr/local/lib/python3.7/dist-packages (from torchvision) (7.1.2)\n",
            "Requirement already satisfied: scikit-learn>=0.22 in /usr/local/lib/python3.7/dist-packages (from umap-learn) (1.0.1)\n",
            "Requirement already satisfied: scipy>=1.0 in /usr/local/lib/python3.7/dist-packages (from umap-learn) (1.4.1)\n",
            "Requirement already satisfied: numba>=0.49 in /usr/local/lib/python3.7/dist-packages (from umap-learn) (0.51.2)\n",
            "Collecting pynndescent>=0.5\n",
            "  Downloading pynndescent-0.5.5.tar.gz (1.1 MB)\n",
            "\u001b[K     |████████████████████████████████| 1.1 MB 31.1 MB/s \n",
            "\u001b[?25hRequirement already satisfied: tqdm in /usr/local/lib/python3.7/dist-packages (from umap-learn) (4.62.3)\n",
            "Requirement already satisfied: llvmlite<0.35,>=0.34.0.dev0 in /usr/local/lib/python3.7/dist-packages (from numba>=0.49->umap-learn) (0.34.0)\n",
            "Requirement already satisfied: joblib>=0.11 in /usr/local/lib/python3.7/dist-packages (from pynndescent>=0.5->umap-learn) (1.1.0)\n",
            "Requirement already satisfied: threadpoolctl>=2.0.0 in /usr/local/lib/python3.7/dist-packages (from scikit-learn>=0.22->umap-learn) (3.0.0)\n",
            "Building wheels for collected packages: umap-learn, pynndescent\n",
            "  Building wheel for umap-learn (setup.py) ... \u001b[?25l\u001b[?25hdone\n",
            "  Created wheel for umap-learn: filename=umap_learn-0.5.2-py3-none-any.whl size=82709 sha256=74ba0fcd9573f8e613cd43a5817e56dfbf6bf740c452c3bc5737af0e9d155a3f\n",
            "  Stored in directory: /root/.cache/pip/wheels/84/1b/c6/aaf68a748122632967cef4dffef68224eb16798b6793257d82\n",
            "  Building wheel for pynndescent (setup.py) ... \u001b[?25l\u001b[?25hdone\n",
            "  Created wheel for pynndescent: filename=pynndescent-0.5.5-py3-none-any.whl size=52603 sha256=043215a5add342d138023961d5af1c5bb7bbc79038af10aedf5a0034fdd5a093\n",
            "  Stored in directory: /root/.cache/pip/wheels/af/e9/33/04db1436df0757c42fda8ea6796d7a8586e23c85fac355f476\n",
            "Successfully built umap-learn pynndescent\n",
            "Installing collected packages: pynndescent, umap-learn\n",
            "Successfully installed pynndescent-0.5.5 umap-learn-0.5.2\n"
          ]
        }
      ]
    },
    {
      "cell_type": "code",
      "metadata": {
        "id": "SB4ZLhQph7F6"
      },
      "source": [
        "# Then import them\n",
        "import fiftyone as fo\n",
        "import fiftyone.zoo as foz"
      ],
      "execution_count": 2,
      "outputs": []
    },
    {
      "cell_type": "code",
      "metadata": {
        "id": "_VbSiaa8d2OH"
      },
      "source": [
        "# Import other libaries for deep learning\n",
        "import numpy as np\n",
        "import tensorflow as tf\n",
        "from tensorflow import keras"
      ],
      "execution_count": 9,
      "outputs": []
    },
    {
      "cell_type": "code",
      "metadata": {
        "colab": {
          "base_uri": "https://localhost:8080/"
        },
        "collapsed": true,
        "id": "xUQxj2UjmFPl",
        "outputId": "c70c5c8f-067a-420a-b5d7-1f3db0f975b2"
      },
      "source": [
        "# Download 400 images of each category into a fiftyone dataset\n",
        "# Mouse\n",
        "dataset1 = foz.load_zoo_dataset(\n",
        "              \"open-images-v6\",\n",
        "              split=\"train\",\n",
        "              label_types=[\"detections\", \"segmentations\"],\n",
        "              classes=[\"Mouse\"],\n",
        "              max_samples=400,\n",
        "              dataset_name=\"dataset1_test1\",\n",
        "          )"
      ],
      "execution_count": 3,
      "outputs": [
        {
          "output_type": "stream",
          "name": "stdout",
          "text": [
            "Downloading split 'train' to '/root/fiftyone/open-images-v6/train' if necessary\n",
            "Downloading 'https://storage.googleapis.com/openimages/2018_04/train/train-images-boxable-with-rotation.csv' to '/root/fiftyone/open-images-v6/train/metadata/image_ids.csv'\n",
            " 100% |██████|    4.8Gb/4.8Gb [6.7s elapsed, 0s remaining, 775.5Mb/s]       \n",
            "Downloading 'https://storage.googleapis.com/openimages/v5/class-descriptions-boxable.csv' to '/root/fiftyone/open-images-v6/train/metadata/classes.csv'\n",
            "Downloading 'https://storage.googleapis.com/openimages/v5/classes-segmentation.txt' to '/root/fiftyone/open-images-v6/train/metadata/segmentation_classes.csv'\n",
            "Downloading 'https://storage.googleapis.com/openimages/2018_04/bbox_labels_600_hierarchy.json' to '/tmp/tmp78c8uaiy/metadata/hierarchy.json'\n",
            "Downloading 'https://storage.googleapis.com/openimages/v6/oidv6-train-annotations-bbox.csv' to '/root/fiftyone/open-images-v6/train/labels/detections.csv'\n",
            "Downloading 'https://storage.googleapis.com/openimages/v5/train-annotations-object-segmentation.csv' to '/root/fiftyone/open-images-v6/train/labels/segmentations.csv'\n",
            "Downloading 'https://storage.googleapis.com/openimages/v5/train-masks/train-masks-5.zip' to '/root/fiftyone/open-images-v6/train/labels/masks/5.zip'\n",
            "Downloading 'https://storage.googleapis.com/openimages/v5/train-masks/train-masks-1.zip' to '/root/fiftyone/open-images-v6/train/labels/masks/1.zip'\n",
            "Downloading 'https://storage.googleapis.com/openimages/v5/train-masks/train-masks-6.zip' to '/root/fiftyone/open-images-v6/train/labels/masks/6.zip'\n",
            "Downloading 'https://storage.googleapis.com/openimages/v5/train-masks/train-masks-2.zip' to '/root/fiftyone/open-images-v6/train/labels/masks/2.zip'\n",
            "Downloading 'https://storage.googleapis.com/openimages/v5/train-masks/train-masks-7.zip' to '/root/fiftyone/open-images-v6/train/labels/masks/7.zip'\n",
            "Downloading 'https://storage.googleapis.com/openimages/v5/train-masks/train-masks-0.zip' to '/root/fiftyone/open-images-v6/train/labels/masks/0.zip'\n",
            "Downloading 'https://storage.googleapis.com/openimages/v5/train-masks/train-masks-4.zip' to '/root/fiftyone/open-images-v6/train/labels/masks/4.zip'\n",
            "Downloading 'https://storage.googleapis.com/openimages/v5/train-masks/train-masks-3.zip' to '/root/fiftyone/open-images-v6/train/labels/masks/3.zip'\n",
            "Downloading 400 images\n",
            " 100% |███████████████████| 400/400 [53.3s elapsed, 0s remaining, 6.6 files/s]      \n",
            "Dataset info written to '/root/fiftyone/open-images-v6/info.json'\n",
            "Loading 'open-images-v6' split 'train'\n",
            " 100% |█████████████████| 400/400 [23.7s elapsed, 0s remaining, 18.8 samples/s]      \n",
            "Dataset 'dataset1_test1' created\n"
          ]
        }
      ]
    },
    {
      "cell_type": "code",
      "metadata": {
        "colab": {
          "base_uri": "https://localhost:8080/"
        },
        "collapsed": true,
        "id": "ZSTQHOYk_2Zt",
        "outputId": "6d0c1191-e306-4690-c81f-3f11dace88ea"
      },
      "source": [
        "# Parrot\n",
        "dataset2 = foz.load_zoo_dataset(\n",
        "              \"open-images-v6\",\n",
        "              split=\"train\",\n",
        "              label_types=[\"detections\", \"segmentations\"],\n",
        "              classes=[\"Parrot\"],\n",
        "              max_samples=400,\n",
        "              dataset_name=\"dataset2_test1\",\n",
        "          )"
      ],
      "execution_count": 4,
      "outputs": [
        {
          "output_type": "stream",
          "name": "stdout",
          "text": [
            "Downloading split 'train' to '/root/fiftyone/open-images-v6/train' if necessary\n",
            "Downloading 400 images\n",
            " 100% |███████████████████| 400/400 [54.8s elapsed, 0s remaining, 3.9 files/s]      \n",
            "Dataset info written to '/root/fiftyone/open-images-v6/info.json'\n",
            "Loading 'open-images-v6' split 'train'\n",
            " 100% |█████████████████| 400/400 [22.4s elapsed, 0s remaining, 21.0 samples/s]      \n",
            "Dataset 'dataset2_test1' created\n"
          ]
        }
      ]
    },
    {
      "cell_type": "code",
      "metadata": {
        "colab": {
          "base_uri": "https://localhost:8080/"
        },
        "collapsed": true,
        "id": "UB7WgJ9g_4TU",
        "outputId": "ea7cb191-9bc9-476e-aeec-4b52afa6e478"
      },
      "source": [
        "# Snake\n",
        "dataset3 = foz.load_zoo_dataset(\n",
        "              \"open-images-v6\",\n",
        "              split=\"train\",\n",
        "              label_types=[\"detections\", \"segmentations\"],\n",
        "              classes=[\"Snake\"],\n",
        "              max_samples=400,\n",
        "              dataset_name=\"dataset3_test1\",\n",
        "          )"
      ],
      "execution_count": 5,
      "outputs": [
        {
          "output_type": "stream",
          "name": "stdout",
          "text": [
            "Downloading split 'train' to '/root/fiftyone/open-images-v6/train' if necessary\n",
            "Found 1 images, downloading the remaining 399\n",
            " 100% |███████████████████| 399/399 [52.2s elapsed, 0s remaining, 8.1 files/s]      \n",
            "Dataset info written to '/root/fiftyone/open-images-v6/info.json'\n",
            "Loading 'open-images-v6' split 'train'\n",
            " 100% |█████████████████| 400/400 [16.6s elapsed, 0s remaining, 23.4 samples/s]      \n",
            "Dataset 'dataset3_test1' created\n"
          ]
        }
      ]
    },
    {
      "cell_type": "code",
      "metadata": {
        "colab": {
          "base_uri": "https://localhost:8080/"
        },
        "collapsed": true,
        "id": "wUrYIW4pmOpH",
        "outputId": "0215d149-dfc8-4989-aae3-be712f34b0a8"
      },
      "source": [
        "# Download the images from the datasets as .jpg\n",
        "dataset1.export(\n",
        "   export_dir=\"dataset1\", # its stored in coogle colab's temporal storage\n",
        "   dataset_type = fo.types.ImageDirectory,\n",
        "   label_field= \"train\",\n",
        ")\n",
        "\n",
        "dataset2.export(\n",
        "   export_dir=\"dataset2\",\n",
        "   dataset_type = fo.types.ImageDirectory,\n",
        "   label_field= \"train\",\n",
        ")\n",
        "\n",
        "dataset3.export(\n",
        "   export_dir=\"dataset3\",\n",
        "   dataset_type = fo.types.ImageDirectory,\n",
        "   label_field= \"train\",\n",
        ")"
      ],
      "execution_count": 6,
      "outputs": [
        {
          "output_type": "stream",
          "name": "stdout",
          "text": [
            " 100% |█████████████████| 400/400 [3.2s elapsed, 0s remaining, 116.6 samples/s]      \n",
            " 100% |█████████████████| 400/400 [2.9s elapsed, 0s remaining, 152.7 samples/s]      \n",
            " 100% |█████████████████| 400/400 [2.4s elapsed, 0s remaining, 168.8 samples/s]      \n"
          ]
        }
      ]
    },
    {
      "cell_type": "code",
      "metadata": {
        "id": "u97UISEpp7f6"
      },
      "source": [
        "# Load data, and do some prepocessing\n",
        "import os, sys\n",
        "from os import listdir\n",
        "from PIL import Image\n",
        "import matplotlib.pyplot as plt\n",
        "from google.colab import files\n",
        "from keras.preprocessing.image import img_to_array\n",
        "\n",
        "dirs = [\"/content/dataset1/\", \"/content/dataset2/\", \"/content/dataset3/\"]\n",
        "labels = [[1, 0, 0], [0, 1, 0], [0, 0, 1]] # onehot encoding\n",
        "\n",
        "x_train = []; y_train = []\n",
        "x_val = []; y_val = []\n",
        "x_test = []; y_test = []\n",
        "\n",
        "# load images from file\n",
        "for category, dir in enumerate(dirs):\n",
        "  files = listdir(dir)\n",
        "  images_list = [i for i in files if i.endswith('.jpg')]\n",
        "  for idx,img_name in enumerate(images_list):\n",
        "    # open and reshape images\n",
        "    img = Image.open(dir + img_name).convert('RGB')\n",
        "    img = img.resize((150, 150))\n",
        "    img = img_to_array(img)\n",
        "    # append to corresponding array\n",
        "    if(idx < 200):\n",
        "      x_train.append(img)\n",
        "      y_train.append(labels[category])\n",
        "    elif(idx < 300):\n",
        "      x_val.append(img)\n",
        "      y_val.append(labels[category])\n",
        "    elif(idx < 400):\n",
        "      x_test.append(img)\n",
        "      y_test.append(labels[category])"
      ],
      "execution_count": 30,
      "outputs": []
    },
    {
      "cell_type": "code",
      "metadata": {
        "id": "AFQlN73bNtue"
      },
      "source": [
        "# Some more formatting\n",
        "x_train = np.array(x_train,dtype='float64')#.reshape(-1, 150, 150, 1)\n",
        "y_train = np.array(y_train)\n",
        "x_val = np.array(x_val,dtype='float64')\n",
        "y_val = np.array(y_val)\n",
        "x_test = np.array(x_test,dtype='float64')\n",
        "y_test = np.asarray(y_test)"
      ],
      "execution_count": 31,
      "outputs": []
    },
    {
      "cell_type": "code",
      "metadata": {
        "id": "mhRrE9bEd6Co",
        "colab": {
          "base_uri": "https://localhost:8080/"
        },
        "outputId": "640fbb49-ff18-4d01-e43e-adefc3cfa5e5"
      },
      "source": [
        "# Create and freeze pretrained CNN (VGG16)\n",
        "base_model = keras.applications.VGG16(\n",
        "    input_shape=(150, 150, 3),\n",
        "    include_top=False)  # Do not include the ImageNet classifier at the top.\n",
        "base_model.trainable = False\n",
        "base_model.summary()"
      ],
      "execution_count": 48,
      "outputs": [
        {
          "output_type": "stream",
          "name": "stdout",
          "text": [
            "Model: \"vgg16\"\n",
            "_________________________________________________________________\n",
            " Layer (type)                Output Shape              Param #   \n",
            "=================================================================\n",
            " input_5 (InputLayer)        [(None, 150, 150, 3)]     0         \n",
            "                                                                 \n",
            " block1_conv1 (Conv2D)       (None, 150, 150, 64)      1792      \n",
            "                                                                 \n",
            " block1_conv2 (Conv2D)       (None, 150, 150, 64)      36928     \n",
            "                                                                 \n",
            " block1_pool (MaxPooling2D)  (None, 75, 75, 64)        0         \n",
            "                                                                 \n",
            " block2_conv1 (Conv2D)       (None, 75, 75, 128)       73856     \n",
            "                                                                 \n",
            " block2_conv2 (Conv2D)       (None, 75, 75, 128)       147584    \n",
            "                                                                 \n",
            " block2_pool (MaxPooling2D)  (None, 37, 37, 128)       0         \n",
            "                                                                 \n",
            " block3_conv1 (Conv2D)       (None, 37, 37, 256)       295168    \n",
            "                                                                 \n",
            " block3_conv2 (Conv2D)       (None, 37, 37, 256)       590080    \n",
            "                                                                 \n",
            " block3_conv3 (Conv2D)       (None, 37, 37, 256)       590080    \n",
            "                                                                 \n",
            " block3_pool (MaxPooling2D)  (None, 18, 18, 256)       0         \n",
            "                                                                 \n",
            " block4_conv1 (Conv2D)       (None, 18, 18, 512)       1180160   \n",
            "                                                                 \n",
            " block4_conv2 (Conv2D)       (None, 18, 18, 512)       2359808   \n",
            "                                                                 \n",
            " block4_conv3 (Conv2D)       (None, 18, 18, 512)       2359808   \n",
            "                                                                 \n",
            " block4_pool (MaxPooling2D)  (None, 9, 9, 512)         0         \n",
            "                                                                 \n",
            " block5_conv1 (Conv2D)       (None, 9, 9, 512)         2359808   \n",
            "                                                                 \n",
            " block5_conv2 (Conv2D)       (None, 9, 9, 512)         2359808   \n",
            "                                                                 \n",
            " block5_conv3 (Conv2D)       (None, 9, 9, 512)         2359808   \n",
            "                                                                 \n",
            " block5_pool (MaxPooling2D)  (None, 4, 4, 512)         0         \n",
            "                                                                 \n",
            "=================================================================\n",
            "Total params: 14,714,688\n",
            "Trainable params: 0\n",
            "Non-trainable params: 14,714,688\n",
            "_________________________________________________________________\n"
          ]
        }
      ]
    },
    {
      "cell_type": "code",
      "metadata": {
        "id": "wWu6p4qnLPjx",
        "colab": {
          "base_uri": "https://localhost:8080/"
        },
        "outputId": "62dc3c0e-d48d-4345-feea-2c71d19a6fba"
      },
      "source": [
        "# Add trainable fully connected layers to a new model\n",
        "model = keras.models.Sequential()\n",
        "for layer in base_model.layers:\n",
        "  layer.trainable=False\n",
        "  model.add(layer)\n",
        "model.add(keras.layers.Flatten())\n",
        "model.add(keras.layers.BatchNormalization())\n",
        "model.add(keras.layers.Dense(256, activation='relu'))\n",
        "model.add(keras.layers.Dropout(0.5))\n",
        "model.add(keras.layers.BatchNormalization())\n",
        "model.add(keras.layers.Dense(128, activation='relu'))\n",
        "model.add(keras.layers.Dropout(0.5))\n",
        "model.add(keras.layers.BatchNormalization())\n",
        "model.add(keras.layers.Dense(64, activation='relu'))\n",
        "model.add(keras.layers.Dropout(0.5))\n",
        "model.add(keras.layers.BatchNormalization())\n",
        "model.add(keras.layers.Dense(3, activation='softmax'))\n",
        "\n",
        "print(model.summary())"
      ],
      "execution_count": 49,
      "outputs": [
        {
          "output_type": "stream",
          "name": "stdout",
          "text": [
            "Model: \"sequential_6\"\n",
            "_________________________________________________________________\n",
            " Layer (type)                Output Shape              Param #   \n",
            "=================================================================\n",
            " block1_conv1 (Conv2D)       (None, 150, 150, 64)      1792      \n",
            "                                                                 \n",
            " block1_conv2 (Conv2D)       (None, 150, 150, 64)      36928     \n",
            "                                                                 \n",
            " block1_pool (MaxPooling2D)  (None, 75, 75, 64)        0         \n",
            "                                                                 \n",
            " block2_conv1 (Conv2D)       (None, 75, 75, 128)       73856     \n",
            "                                                                 \n",
            " block2_conv2 (Conv2D)       (None, 75, 75, 128)       147584    \n",
            "                                                                 \n",
            " block2_pool (MaxPooling2D)  (None, 37, 37, 128)       0         \n",
            "                                                                 \n",
            " block3_conv1 (Conv2D)       (None, 37, 37, 256)       295168    \n",
            "                                                                 \n",
            " block3_conv2 (Conv2D)       (None, 37, 37, 256)       590080    \n",
            "                                                                 \n",
            " block3_conv3 (Conv2D)       (None, 37, 37, 256)       590080    \n",
            "                                                                 \n",
            " block3_pool (MaxPooling2D)  (None, 18, 18, 256)       0         \n",
            "                                                                 \n",
            " block4_conv1 (Conv2D)       (None, 18, 18, 512)       1180160   \n",
            "                                                                 \n",
            " block4_conv2 (Conv2D)       (None, 18, 18, 512)       2359808   \n",
            "                                                                 \n",
            " block4_conv3 (Conv2D)       (None, 18, 18, 512)       2359808   \n",
            "                                                                 \n",
            " block4_pool (MaxPooling2D)  (None, 9, 9, 512)         0         \n",
            "                                                                 \n",
            " block5_conv1 (Conv2D)       (None, 9, 9, 512)         2359808   \n",
            "                                                                 \n",
            " block5_conv2 (Conv2D)       (None, 9, 9, 512)         2359808   \n",
            "                                                                 \n",
            " block5_conv3 (Conv2D)       (None, 9, 9, 512)         2359808   \n",
            "                                                                 \n",
            " block5_pool (MaxPooling2D)  (None, 4, 4, 512)         0         \n",
            "                                                                 \n",
            " flatten_5 (Flatten)         (None, 8192)              0         \n",
            "                                                                 \n",
            " batch_normalization_20 (Bat  (None, 8192)             32768     \n",
            " chNormalization)                                                \n",
            "                                                                 \n",
            " dense_18 (Dense)            (None, 256)               2097408   \n",
            "                                                                 \n",
            " dropout_12 (Dropout)        (None, 256)               0         \n",
            "                                                                 \n",
            " batch_normalization_21 (Bat  (None, 256)              1024      \n",
            " chNormalization)                                                \n",
            "                                                                 \n",
            " dense_19 (Dense)            (None, 128)               32896     \n",
            "                                                                 \n",
            " dropout_13 (Dropout)        (None, 128)               0         \n",
            "                                                                 \n",
            " batch_normalization_22 (Bat  (None, 128)              512       \n",
            " chNormalization)                                                \n",
            "                                                                 \n",
            " dense_20 (Dense)            (None, 64)                8256      \n",
            "                                                                 \n",
            " dropout_14 (Dropout)        (None, 64)                0         \n",
            "                                                                 \n",
            " batch_normalization_23 (Bat  (None, 64)               256       \n",
            " chNormalization)                                                \n",
            "                                                                 \n",
            " dense_21 (Dense)            (None, 3)                 195       \n",
            "                                                                 \n",
            "=================================================================\n",
            "Total params: 16,888,003\n",
            "Trainable params: 2,156,035\n",
            "Non-trainable params: 14,731,968\n",
            "_________________________________________________________________\n",
            "None\n"
          ]
        }
      ]
    },
    {
      "cell_type": "code",
      "metadata": {
        "id": "i9s7IV8LOahx"
      },
      "source": [
        "# Compile the model\n",
        "#early_stoping = keras.callbacks.EarlyStopping(patience=5, verbose=1)\n",
        "#checkpointer = keras.callbacks.ModelCheckpoint(filepath='weights.hdf5', save_best_obly=True, verbose=1)\n",
        "\n",
        "model.compile(optimizer=keras.optimizers.Adam(),\n",
        "              loss=keras.losses.BinaryCrossentropy(from_logits=True),\n",
        "              metrics=[keras.metrics.BinaryAccuracy()])"
      ],
      "execution_count": 50,
      "outputs": []
    },
    {
      "cell_type": "code",
      "metadata": {
        "colab": {
          "base_uri": "https://localhost:8080/"
        },
        "id": "bjjYCaz7d2RL",
        "outputId": "4fc1905a-fe6e-460e-c579-4fa102306a36"
      },
      "source": [
        "# Train the model\n",
        "model.fit(x_train, y_train,\n",
        "          epochs=20, batch_size=16,\n",
        "          #callbacks=[checkpointer, early_stoping],\n",
        "          validation_data=(x_val, y_val))"
      ],
      "execution_count": 51,
      "outputs": [
        {
          "output_type": "stream",
          "name": "stdout",
          "text": [
            "Epoch 1/20\n"
          ]
        },
        {
          "output_type": "stream",
          "name": "stderr",
          "text": [
            "/usr/local/lib/python3.7/dist-packages/tensorflow/python/util/dispatch.py:1096: UserWarning: \"`binary_crossentropy` received `from_logits=True`, but the `output` argument was produced by a sigmoid or softmax activation and thus does not represent logits. Was this intended?\"\n",
            "  return dispatch_target(*args, **kwargs)\n"
          ]
        },
        {
          "output_type": "stream",
          "name": "stdout",
          "text": [
            "38/38 [==============================] - 7s 141ms/step - loss: 0.7881 - binary_accuracy: 0.6267 - val_loss: 1.2753 - val_binary_accuracy: 0.7067\n",
            "Epoch 2/20\n",
            "38/38 [==============================] - 5s 126ms/step - loss: 0.6688 - binary_accuracy: 0.7011 - val_loss: 0.4679 - val_binary_accuracy: 0.8256\n",
            "Epoch 3/20\n",
            "38/38 [==============================] - 5s 126ms/step - loss: 0.5712 - binary_accuracy: 0.7572 - val_loss: 0.3417 - val_binary_accuracy: 0.8967\n",
            "Epoch 4/20\n",
            "38/38 [==============================] - 5s 126ms/step - loss: 0.5135 - binary_accuracy: 0.8006 - val_loss: 0.2965 - val_binary_accuracy: 0.8967\n",
            "Epoch 5/20\n",
            "38/38 [==============================] - 5s 126ms/step - loss: 0.4587 - binary_accuracy: 0.8189 - val_loss: 0.2669 - val_binary_accuracy: 0.9100\n",
            "Epoch 6/20\n",
            "38/38 [==============================] - 5s 126ms/step - loss: 0.4173 - binary_accuracy: 0.8483 - val_loss: 0.2485 - val_binary_accuracy: 0.9156\n",
            "Epoch 7/20\n",
            "38/38 [==============================] - 5s 125ms/step - loss: 0.3754 - binary_accuracy: 0.8661 - val_loss: 0.2348 - val_binary_accuracy: 0.9189\n",
            "Epoch 8/20\n",
            "38/38 [==============================] - 5s 126ms/step - loss: 0.3235 - binary_accuracy: 0.8917 - val_loss: 0.2281 - val_binary_accuracy: 0.9256\n",
            "Epoch 9/20\n",
            "38/38 [==============================] - 5s 126ms/step - loss: 0.2922 - binary_accuracy: 0.9083 - val_loss: 0.2217 - val_binary_accuracy: 0.9133\n",
            "Epoch 10/20\n",
            "38/38 [==============================] - 5s 126ms/step - loss: 0.2623 - binary_accuracy: 0.9200 - val_loss: 0.2136 - val_binary_accuracy: 0.9133\n",
            "Epoch 11/20\n",
            "38/38 [==============================] - 5s 126ms/step - loss: 0.2430 - binary_accuracy: 0.9189 - val_loss: 0.2133 - val_binary_accuracy: 0.9089\n",
            "Epoch 12/20\n",
            "38/38 [==============================] - 5s 127ms/step - loss: 0.2187 - binary_accuracy: 0.9394 - val_loss: 0.2166 - val_binary_accuracy: 0.9056\n",
            "Epoch 13/20\n",
            "38/38 [==============================] - 5s 127ms/step - loss: 0.2101 - binary_accuracy: 0.9411 - val_loss: 0.2171 - val_binary_accuracy: 0.9067\n",
            "Epoch 14/20\n",
            "38/38 [==============================] - 5s 128ms/step - loss: 0.2106 - binary_accuracy: 0.9350 - val_loss: 0.2170 - val_binary_accuracy: 0.9111\n",
            "Epoch 15/20\n",
            "38/38 [==============================] - 5s 127ms/step - loss: 0.1878 - binary_accuracy: 0.9533 - val_loss: 0.2209 - val_binary_accuracy: 0.9056\n",
            "Epoch 16/20\n",
            "38/38 [==============================] - 5s 127ms/step - loss: 0.1649 - binary_accuracy: 0.9556 - val_loss: 0.2291 - val_binary_accuracy: 0.9044\n",
            "Epoch 17/20\n",
            "38/38 [==============================] - 5s 127ms/step - loss: 0.1582 - binary_accuracy: 0.9578 - val_loss: 0.2334 - val_binary_accuracy: 0.9011\n",
            "Epoch 18/20\n",
            "38/38 [==============================] - 5s 126ms/step - loss: 0.1409 - binary_accuracy: 0.9644 - val_loss: 0.2467 - val_binary_accuracy: 0.8956\n",
            "Epoch 19/20\n",
            "38/38 [==============================] - 5s 127ms/step - loss: 0.1188 - binary_accuracy: 0.9739 - val_loss: 0.2276 - val_binary_accuracy: 0.9067\n",
            "Epoch 20/20\n",
            "38/38 [==============================] - 5s 127ms/step - loss: 0.1285 - binary_accuracy: 0.9650 - val_loss: 0.2346 - val_binary_accuracy: 0.9067\n"
          ]
        },
        {
          "output_type": "execute_result",
          "data": {
            "text/plain": [
              "<keras.callbacks.History at 0x7f2e2fe2b7d0>"
            ]
          },
          "metadata": {},
          "execution_count": 51
        }
      ]
    },
    {
      "cell_type": "code",
      "metadata": {
        "id": "le51HFptjljb",
        "colab": {
          "base_uri": "https://localhost:8080/",
          "height": 392
        },
        "outputId": "8c5c0453-c841-4a13-ac4b-dff0ba81d99d"
      },
      "source": [
        "# Draw a confusion matrix with the test data\n",
        "from sklearn.metrics import accuracy_score, precision_score, recall_score, f1_score, roc_curve, confusion_matrix,classification_report\n",
        "import seaborn as sns\n",
        "def test():\n",
        "  # Make predictions\n",
        "  y_pred = model.predict(x_test)\n",
        "  y_pred = np.argmax(y_pred,1)\n",
        "  y_true = np.argmax(y_test,1)\n",
        "  # Draw the test datas and the matrix\n",
        "  print(\"test accuracy: %g\" %(accuracy_score(y_true, y_pred)))\n",
        "  print(\"Precision\", precision_score(y_true, y_pred, average=\"macro\"))\n",
        "  print(\"Recall\", recall_score(y_true, y_pred, average=\"macro\"))\n",
        "  print(\"f1_score\", f1_score(y_true, y_pred, average=\"macro\"))\n",
        "  print(\"\\nConfusion matrix: \")\n",
        "  conf=confusion_matrix(y_true, y_pred)\n",
        "  ax = sns.heatmap(conf, annot=True, fmt='d', vmax=20, cmap='Blues') # a vmax paraméterrel állítjuk be, hogy milyen értéktartományban jelenítse meg az adatokat\n",
        "  ax.set(xlabel='Predicted Label',\n",
        "        ylabel='True label');\n",
        "\n",
        "test()"
      ],
      "execution_count": 52,
      "outputs": [
        {
          "output_type": "stream",
          "name": "stdout",
          "text": [
            "test accuracy: 0.87\n",
            "Precision 0.8698256492315898\n",
            "Recall 0.87\n",
            "f1_score 0.869898080785353\n",
            "\n",
            "Confusion matrix: \n"
          ]
        },
        {
          "output_type": "display_data",
          "data": {
            "image/png": "[encoded data removed]",
            "text/plain": [
              "<Figure size 432x288 with 2 Axes>"
            ]
          },
          "metadata": {
            "needs_background": "light"
          }
        }
      ]
    },
    {
      "cell_type": "code",
      "metadata": {
        "id": "rGwucTQYd2Vq"
      },
      "source": [
        "# So the test accuracy is 87%\n",
        "# Lets train the upper layers of the base model\n",
        "model.get_layer('block5_conv1').trainable = True\n",
        "model.get_layer('block5_conv2').trainable = True\n",
        "model.get_layer('block5_conv3').trainable = True"
      ],
      "execution_count": 53,
      "outputs": []
    },
    {
      "cell_type": "code",
      "metadata": {
        "colab": {
          "base_uri": "https://localhost:8080/"
        },
        "id": "8DUHaNrO_37p",
        "outputId": "1647e82f-a80e-4149-9af9-6837f68b19d2"
      },
      "source": [
        "# Train the model again\n",
        "model.fit(x_train, y_train,\n",
        "          epochs=10, batch_size=16,\n",
        "          validation_data=(x_val, y_val))"
      ],
      "execution_count": 54,
      "outputs": [
        {
          "output_type": "stream",
          "name": "stdout",
          "text": [
            "Epoch 1/10\n",
            "38/38 [==============================] - 5s 131ms/step - loss: 0.1351 - binary_accuracy: 0.9594 - val_loss: 0.2464 - val_binary_accuracy: 0.9100\n",
            "Epoch 2/10\n",
            "38/38 [==============================] - 5s 126ms/step - loss: 0.1409 - binary_accuracy: 0.9600 - val_loss: 0.2545 - val_binary_accuracy: 0.8989\n",
            "Epoch 3/10\n",
            "38/38 [==============================] - 5s 127ms/step - loss: 0.1245 - binary_accuracy: 0.9650 - val_loss: 0.2586 - val_binary_accuracy: 0.9022\n",
            "Epoch 4/10\n",
            "38/38 [==============================] - 5s 127ms/step - loss: 0.1115 - binary_accuracy: 0.9756 - val_loss: 0.2703 - val_binary_accuracy: 0.9000\n",
            "Epoch 5/10\n",
            "38/38 [==============================] - 5s 127ms/step - loss: 0.1006 - binary_accuracy: 0.9783 - val_loss: 0.2729 - val_binary_accuracy: 0.9000\n",
            "Epoch 6/10\n",
            "38/38 [==============================] - 5s 127ms/step - loss: 0.0884 - binary_accuracy: 0.9767 - val_loss: 0.2677 - val_binary_accuracy: 0.9056\n",
            "Epoch 7/10\n",
            "38/38 [==============================] - 5s 127ms/step - loss: 0.1471 - binary_accuracy: 0.9556 - val_loss: 0.2621 - val_binary_accuracy: 0.9022\n",
            "Epoch 8/10\n",
            "38/38 [==============================] - 5s 127ms/step - loss: 0.0890 - binary_accuracy: 0.9744 - val_loss: 0.2537 - val_binary_accuracy: 0.9167\n",
            "Epoch 9/10\n",
            "38/38 [==============================] - 5s 128ms/step - loss: 0.1363 - binary_accuracy: 0.9583 - val_loss: 0.2809 - val_binary_accuracy: 0.9122\n",
            "Epoch 10/10\n",
            "38/38 [==============================] - 5s 127ms/step - loss: 0.0888 - binary_accuracy: 0.9717 - val_loss: 0.2794 - val_binary_accuracy: 0.9044\n"
          ]
        },
        {
          "output_type": "execute_result",
          "data": {
            "text/plain": [
              "<keras.callbacks.History at 0x7f2e6e52e990>"
            ]
          },
          "metadata": {},
          "execution_count": 54
        }
      ]
    },
    {
      "cell_type": "code",
      "metadata": {
        "colab": {
          "base_uri": "https://localhost:8080/",
          "height": 392
        },
        "id": "QuJP1fYAArvr",
        "outputId": "a149de57-0120-4fe6-a848-11fea7dbad2f"
      },
      "source": [
        "# Now accuracy is 90%, slightly better\n",
        "test()"
      ],
      "execution_count": 55,
      "outputs": [
        {
          "output_type": "stream",
          "name": "stdout",
          "text": [
            "test accuracy: 0.896667\n",
            "Precision 0.8979634613946832\n",
            "Recall 0.8966666666666666\n",
            "f1_score 0.8971142411330634\n",
            "\n",
            "Confusion matrix: \n"
          ]
        },
        {
          "output_type": "display_data",
          "data": {
            "image/png": "[encoded data removed]",
            "text/plain": [
              "<Figure size 432x288 with 2 Axes>"
            ]
          },
          "metadata": {
            "needs_background": "light"
          }
        }
      ]
    }
  ]
}