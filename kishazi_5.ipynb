{
  "nbformat": 4,
  "nbformat_minor": 0,
  "metadata": {
    "colab": {
      "name": "DL_kishf5.ipynb",
      "provenance": [],
      "collapsed_sections": []
    },
    "kernelspec": {
      "name": "python3",
      "display_name": "Python 3"
    },
    "language_info": {
      "name": "python"
    },
    "accelerator": "GPU"
  },
  "cells": [
    {
      "cell_type": "markdown",
      "metadata": {
        "id": "0G-b5uAKd9TV"
      },
      "source": [
        "[![Open In Colab](https://colab.research.google.com/assets/colab-badge.svg)](https://colab.research.google.com/drive/1m_8z6ph3-nsp_3NGxU9aHg4dmeLogsfG?usp=sharing)"
      ]
    },
    {
      "cell_type": "markdown",
      "metadata": {
        "id": "KqRLJVSiuH1y"
      },
      "source": [
        "useful links:\n",
        "* CIRAF10 example: http://home.mit.bme.hu/~hadhazi/Oktatas/NN18/dem3/html_demo/CIFAR-10Demo.html\n",
        "* keras tuner: https://github.com/BME-SmartLab-Education/vitmav45/blob/master/12/keras_tuner_fashionmnist.ipynb"
      ]
    },
    {
      "cell_type": "code",
      "metadata": {
        "collapsed": true,
        "colab": {
          "base_uri": "https://localhost:8080/"
        },
        "id": "n2sqfWxif5oT",
        "outputId": "e0ceb1cf-b539-479c-90fe-61537a3cd87c"
      },
      "source": [
        "!pip install keras-tuner"
      ],
      "execution_count": 1,
      "outputs": [
        {
          "output_type": "stream",
          "name": "stdout",
          "text": [
            "Collecting keras-tuner\n",
            "  Downloading keras_tuner-1.1.0-py3-none-any.whl (98 kB)\n",
            "\u001b[?25l\r\u001b[K     |███▍                            | 10 kB 26.3 MB/s eta 0:00:01\r\u001b[K     |██████▊                         | 20 kB 9.7 MB/s eta 0:00:01\r\u001b[K     |██████████                      | 30 kB 8.3 MB/s eta 0:00:01\r\u001b[K     |█████████████▍                  | 40 kB 7.7 MB/s eta 0:00:01\r\u001b[K     |████████████████▊               | 51 kB 4.2 MB/s eta 0:00:01\r\u001b[K     |████████████████████            | 61 kB 4.4 MB/s eta 0:00:01\r\u001b[K     |███████████████████████▍        | 71 kB 4.6 MB/s eta 0:00:01\r\u001b[K     |██████████████████████████▊     | 81 kB 5.2 MB/s eta 0:00:01\r\u001b[K     |██████████████████████████████  | 92 kB 3.9 MB/s eta 0:00:01\r\u001b[K     |████████████████████████████████| 98 kB 2.8 MB/s \n",
            "\u001b[?25hRequirement already satisfied: numpy in /usr/local/lib/python3.7/dist-packages (from keras-tuner) (1.19.5)\n",
            "Requirement already satisfied: scipy in /usr/local/lib/python3.7/dist-packages (from keras-tuner) (1.4.1)\n",
            "Collecting kt-legacy\n",
            "  Downloading kt_legacy-1.0.4-py3-none-any.whl (9.6 kB)\n",
            "Requirement already satisfied: packaging in /usr/local/lib/python3.7/dist-packages (from keras-tuner) (21.3)\n",
            "Requirement already satisfied: tensorboard in /usr/local/lib/python3.7/dist-packages (from keras-tuner) (2.7.0)\n",
            "Requirement already satisfied: requests in /usr/local/lib/python3.7/dist-packages (from keras-tuner) (2.23.0)\n",
            "Requirement already satisfied: ipython in /usr/local/lib/python3.7/dist-packages (from keras-tuner) (5.5.0)\n",
            "Requirement already satisfied: prompt-toolkit<2.0.0,>=1.0.4 in /usr/local/lib/python3.7/dist-packages (from ipython->keras-tuner) (1.0.18)\n",
            "Requirement already satisfied: setuptools>=18.5 in /usr/local/lib/python3.7/dist-packages (from ipython->keras-tuner) (57.4.0)\n",
            "Requirement already satisfied: pickleshare in /usr/local/lib/python3.7/dist-packages (from ipython->keras-tuner) (0.7.5)\n",
            "Requirement already satisfied: pexpect in /usr/local/lib/python3.7/dist-packages (from ipython->keras-tuner) (4.8.0)\n",
            "Requirement already satisfied: pygments in /usr/local/lib/python3.7/dist-packages (from ipython->keras-tuner) (2.6.1)\n",
            "Requirement already satisfied: decorator in /usr/local/lib/python3.7/dist-packages (from ipython->keras-tuner) (4.4.2)\n",
            "Requirement already satisfied: simplegeneric>0.8 in /usr/local/lib/python3.7/dist-packages (from ipython->keras-tuner) (0.8.1)\n",
            "Requirement already satisfied: traitlets>=4.2 in /usr/local/lib/python3.7/dist-packages (from ipython->keras-tuner) (5.1.1)\n",
            "Requirement already satisfied: six>=1.9.0 in /usr/local/lib/python3.7/dist-packages (from prompt-toolkit<2.0.0,>=1.0.4->ipython->keras-tuner) (1.15.0)\n",
            "Requirement already satisfied: wcwidth in /usr/local/lib/python3.7/dist-packages (from prompt-toolkit<2.0.0,>=1.0.4->ipython->keras-tuner) (0.2.5)\n",
            "Requirement already satisfied: pyparsing!=3.0.5,>=2.0.2 in /usr/local/lib/python3.7/dist-packages (from packaging->keras-tuner) (3.0.6)\n",
            "Requirement already satisfied: ptyprocess>=0.5 in /usr/local/lib/python3.7/dist-packages (from pexpect->ipython->keras-tuner) (0.7.0)\n",
            "Requirement already satisfied: idna<3,>=2.5 in /usr/local/lib/python3.7/dist-packages (from requests->keras-tuner) (2.10)\n",
            "Requirement already satisfied: certifi>=2017.4.17 in /usr/local/lib/python3.7/dist-packages (from requests->keras-tuner) (2021.10.8)\n",
            "Requirement already satisfied: chardet<4,>=3.0.2 in /usr/local/lib/python3.7/dist-packages (from requests->keras-tuner) (3.0.4)\n",
            "Requirement already satisfied: urllib3!=1.25.0,!=1.25.1,<1.26,>=1.21.1 in /usr/local/lib/python3.7/dist-packages (from requests->keras-tuner) (1.24.3)\n",
            "Requirement already satisfied: werkzeug>=0.11.15 in /usr/local/lib/python3.7/dist-packages (from tensorboard->keras-tuner) (1.0.1)\n",
            "Requirement already satisfied: markdown>=2.6.8 in /usr/local/lib/python3.7/dist-packages (from tensorboard->keras-tuner) (3.3.6)\n",
            "Requirement already satisfied: tensorboard-plugin-wit>=1.6.0 in /usr/local/lib/python3.7/dist-packages (from tensorboard->keras-tuner) (1.8.0)\n",
            "Requirement already satisfied: grpcio>=1.24.3 in /usr/local/lib/python3.7/dist-packages (from tensorboard->keras-tuner) (1.42.0)\n",
            "Requirement already satisfied: google-auth<3,>=1.6.3 in /usr/local/lib/python3.7/dist-packages (from tensorboard->keras-tuner) (1.35.0)\n",
            "Requirement already satisfied: wheel>=0.26 in /usr/local/lib/python3.7/dist-packages (from tensorboard->keras-tuner) (0.37.0)\n",
            "Requirement already satisfied: protobuf>=3.6.0 in /usr/local/lib/python3.7/dist-packages (from tensorboard->keras-tuner) (3.17.3)\n",
            "Requirement already satisfied: tensorboard-data-server<0.7.0,>=0.6.0 in /usr/local/lib/python3.7/dist-packages (from tensorboard->keras-tuner) (0.6.1)\n",
            "Requirement already satisfied: absl-py>=0.4 in /usr/local/lib/python3.7/dist-packages (from tensorboard->keras-tuner) (0.12.0)\n",
            "Requirement already satisfied: google-auth-oauthlib<0.5,>=0.4.1 in /usr/local/lib/python3.7/dist-packages (from tensorboard->keras-tuner) (0.4.6)\n",
            "Requirement already satisfied: pyasn1-modules>=0.2.1 in /usr/local/lib/python3.7/dist-packages (from google-auth<3,>=1.6.3->tensorboard->keras-tuner) (0.2.8)\n",
            "Requirement already satisfied: cachetools<5.0,>=2.0.0 in /usr/local/lib/python3.7/dist-packages (from google-auth<3,>=1.6.3->tensorboard->keras-tuner) (4.2.4)\n",
            "Requirement already satisfied: rsa<5,>=3.1.4 in /usr/local/lib/python3.7/dist-packages (from google-auth<3,>=1.6.3->tensorboard->keras-tuner) (4.8)\n",
            "Requirement already satisfied: requests-oauthlib>=0.7.0 in /usr/local/lib/python3.7/dist-packages (from google-auth-oauthlib<0.5,>=0.4.1->tensorboard->keras-tuner) (1.3.0)\n",
            "Requirement already satisfied: importlib-metadata>=4.4 in /usr/local/lib/python3.7/dist-packages (from markdown>=2.6.8->tensorboard->keras-tuner) (4.8.2)\n",
            "Requirement already satisfied: typing-extensions>=3.6.4 in /usr/local/lib/python3.7/dist-packages (from importlib-metadata>=4.4->markdown>=2.6.8->tensorboard->keras-tuner) (3.10.0.2)\n",
            "Requirement already satisfied: zipp>=0.5 in /usr/local/lib/python3.7/dist-packages (from importlib-metadata>=4.4->markdown>=2.6.8->tensorboard->keras-tuner) (3.6.0)\n",
            "Requirement already satisfied: pyasn1<0.5.0,>=0.4.6 in /usr/local/lib/python3.7/dist-packages (from pyasn1-modules>=0.2.1->google-auth<3,>=1.6.3->tensorboard->keras-tuner) (0.4.8)\n",
            "Requirement already satisfied: oauthlib>=3.0.0 in /usr/local/lib/python3.7/dist-packages (from requests-oauthlib>=0.7.0->google-auth-oauthlib<0.5,>=0.4.1->tensorboard->keras-tuner) (3.1.1)\n",
            "Installing collected packages: kt-legacy, keras-tuner\n",
            "Successfully installed keras-tuner-1.1.0 kt-legacy-1.0.4\n"
          ]
        }
      ]
    },
    {
      "cell_type": "code",
      "metadata": {
        "id": "tJVRUEsWWrT9",
        "colab": {
          "base_uri": "https://localhost:8080/"
        },
        "outputId": "9fb33142-328f-4f57-d0bd-8fddc2ec6def"
      },
      "source": [
        "import numpy as np  \n",
        "from keras.datasets import cifar10\n",
        "from keras.utils.np_utils import to_categorical \n",
        "\n",
        "# Import the CIRAF10 dataset\n",
        "(x_train, y_train), (x_test, y_test) = cifar10.load_data()\n",
        "\n",
        "# Transform label indices to one-hot encoded vectors\n",
        "y_train = to_categorical(y_train, num_classes=10)\n",
        "y_test = to_categorical(y_test, num_classes=10)\n",
        "\n",
        "# Change data type\n",
        "x_train = x_train.astype('float32')\n",
        "x_test = x_test.astype('float32')\n",
        "\n",
        "# Normalization of pixel values (to [0-1] range)\n",
        "x_train /= 255.0\n",
        "x_test /= 255.0"
      ],
      "execution_count": 2,
      "outputs": [
        {
          "output_type": "stream",
          "name": "stdout",
          "text": [
            "Downloading data from https://www.cs.toronto.edu/~kriz/cifar-10-python.tar.gz\n",
            "170500096/170498071 [==============================] - 11s 0us/step\n",
            "170508288/170498071 [==============================] - 11s 0us/step\n"
          ]
        }
      ]
    },
    {
      "cell_type": "code",
      "metadata": {
        "id": "e_btmIjlg8sS"
      },
      "source": [
        "from tensorflow import keras\n",
        "from keras import Sequential\n",
        "from keras.layers import Dense, Flatten, Dropout, Conv2D, MaxPooling2D\n",
        "from keras.callbacks import EarlyStopping\n",
        "\n",
        "def create_model(hp):\n",
        "  # The hyperparameter space:\n",
        "  layer_size_1 = hp.Choice('layer_size_1', values = [16, 32, 64])\n",
        "  layer_size_2 = hp.Choice('layer_size_2', values = [32, 64, 128])\n",
        "  layer_size_3 = hp.Choice('layer_size_3', values = [64, 128, 256])\n",
        "  fully_connected_size = hp.Choice('fully_connected_size', values = [256, 512, 1024])\n",
        "  dropout_1 = hp.Float('dropout_1', min_value=0, max_value=0.5)\n",
        "  dropout_2 = hp.Float('dropout_2', min_value=0, max_value=0.5)\n",
        "  dropout_3 = hp.Float('dropout_3', min_value=0, max_value=0.5)\n",
        "\n",
        "  learning_rate = hp.Choice('learning_rate', values=[1e-2, 1e-3, 1e-4])\n",
        "\n",
        "  # Create model\n",
        "  model = Sequential()\n",
        "\n",
        "  # I will use 2 or 3 2D conv layers, with relu activations, each followed by a a dropout layer, the last one with a maxpooling also\n",
        "  # layer sizes and dropout rates will be optimized\n",
        "  # at the end, I add a fully connected layer with variable size\n",
        "  # all activations will be relu, to change that, use activation=hp.Choice('activation', values = ['relu', 'swish']),\n",
        "  model.add(Conv2D(\n",
        "    layer_size_1,\n",
        "    kernel_size=(3, 3),\n",
        "    activation='relu',\n",
        "    input_shape=(32,32,3) )) \n",
        "  #model.add(MaxPooling2D(pool_size=(2, 2)))\n",
        "  model.add(Dropout( dropout_1 ))\n",
        "\n",
        "  model.add(Conv2D(\n",
        "    layer_size_1,\n",
        "    kernel_size=(3, 3),\n",
        "    activation='relu'))\n",
        "  #model.add(MaxPooling2D(pool_size=(2, 2)))\n",
        "  model.add(Dropout( dropout_2 ))\n",
        "\n",
        "  if(hp.Choice('third_layer', values = [True, False])):\n",
        "    model.add(Conv2D(\n",
        "      layer_size_1,\n",
        "      kernel_size=(3, 3),\n",
        "      activation='relu'))\n",
        "    model.add(MaxPooling2D(pool_size=(2, 2)))\n",
        "    model.add(Dropout( dropout_2 ))\n",
        "\n",
        "  model.add(Flatten())\n",
        "  model.add(Dense(fully_connected_size, activation='relu'))\n",
        "  model.add(Dense(10, activation='softmax'))\n",
        "\n",
        "  model.compile(optimizer=keras.optimizers.Adam(learning_rate=learning_rate),               \n",
        "                loss='categorical_crossentropy',\n",
        "                metrics=['accuracy'])\n",
        "  \n",
        "  return model"
      ],
      "execution_count": 3,
      "outputs": []
    },
    {
      "cell_type": "code",
      "metadata": {
        "colab": {
          "base_uri": "https://localhost:8080/"
        },
        "id": "DXYoxfEkYn1H",
        "outputId": "e71b9b75-58b6-493f-e213-93419937a555"
      },
      "source": [
        "from kerastuner.tuners import Hyperband\n",
        "\n",
        "# Create a tuner for auto hyperparameter optimaziton\n",
        "tuner = Hyperband(\n",
        "    create_model,\n",
        "    objective='val_accuracy',\n",
        "    factor=3,\n",
        "    max_epochs=8,\n",
        "    hyperband_iterations=1,\n",
        "    directory='output',\n",
        "    project_name='CIRAF10_hyperband')"
      ],
      "execution_count": 4,
      "outputs": [
        {
          "output_type": "stream",
          "name": "stderr",
          "text": [
            "/usr/local/lib/python3.7/dist-packages/ipykernel_launcher.py:1: DeprecationWarning: `import kerastuner` is deprecated, please use `import keras_tuner`.\n",
            "  \"\"\"Entry point for launching an IPython kernel.\n"
          ]
        }
      ]
    },
    {
      "cell_type": "code",
      "metadata": {
        "colab": {
          "base_uri": "https://localhost:8080/"
        },
        "id": "29AINckAZGSA",
        "outputId": "71aea083-c198-48b3-f577-0a5130af1b57"
      },
      "source": [
        "# Wiew the hiperparam space\n",
        "tuner.search_space_summary()"
      ],
      "execution_count": 5,
      "outputs": [
        {
          "output_type": "stream",
          "name": "stdout",
          "text": [
            "Search space summary\n",
            "Default search space size: 9\n",
            "layer_size_1 (Choice)\n",
            "{'default': 16, 'conditions': [], 'values': [16, 32, 64], 'ordered': True}\n",
            "layer_size_2 (Choice)\n",
            "{'default': 32, 'conditions': [], 'values': [32, 64, 128], 'ordered': True}\n",
            "layer_size_3 (Choice)\n",
            "{'default': 64, 'conditions': [], 'values': [64, 128, 256], 'ordered': True}\n",
            "fully_connected_size (Choice)\n",
            "{'default': 256, 'conditions': [], 'values': [256, 512, 1024], 'ordered': True}\n",
            "dropout_1 (Float)\n",
            "{'default': 0.0, 'conditions': [], 'min_value': 0.0, 'max_value': 0.5, 'step': None, 'sampling': None}\n",
            "dropout_2 (Float)\n",
            "{'default': 0.0, 'conditions': [], 'min_value': 0.0, 'max_value': 0.5, 'step': None, 'sampling': None}\n",
            "dropout_3 (Float)\n",
            "{'default': 0.0, 'conditions': [], 'min_value': 0.0, 'max_value': 0.5, 'step': None, 'sampling': None}\n",
            "learning_rate (Choice)\n",
            "{'default': 0.01, 'conditions': [], 'values': [0.01, 0.001, 0.0001], 'ordered': True}\n",
            "third_layer (Choice)\n",
            "{'default': 1, 'conditions': [], 'values': [1, 0], 'ordered': True}\n"
          ]
        }
      ]
    },
    {
      "cell_type": "code",
      "metadata": {
        "colab": {
          "base_uri": "https://localhost:8080/"
        },
        "id": "Bny4m092y6Mg",
        "outputId": "dc4a7866-f094-4746-a87a-de91679e0db0"
      },
      "source": [
        "# Actual hyperparamatization\n",
        "early_stopping = EarlyStopping(monitor='val_accuracy', patience=5)\n",
        "tuner.search(x_train, y_train, epochs=8,\n",
        "             validation_split=0.2, callbacks=[early_stopping], shuffle=True)"
      ],
      "execution_count": null,
      "outputs": [
        {
          "output_type": "stream",
          "name": "stdout",
          "text": [
            "Trial 9 Complete [00h 02m 23s]\n",
            "val_accuracy: 0.6385999917984009\n",
            "\n",
            "Best val_accuracy So Far: 0.6559000015258789\n",
            "Total elapsed time: 00h 17m 16s\n",
            "\n",
            "Search: Running Trial #10\n",
            "\n",
            "Hyperparameter    |Value             |Best Value So Far \n",
            "layer_size_1      |16                |16                \n",
            "layer_size_2      |64                |128               \n",
            "layer_size_3      |256               |128               \n",
            "fully_connected...|256               |256               \n",
            "dropout_1         |0.0021817         |0.32799           \n",
            "dropout_2         |0.29475           |0.18296           \n",
            "dropout_3         |0.3258            |0.23719           \n",
            "learning_rate     |0.0001            |0.001             \n",
            "third_layer       |1                 |1                 \n",
            "tuner/epochs      |8                 |8                 \n",
            "tuner/initial_e...|0                 |3                 \n",
            "tuner/bracket     |0                 |1                 \n",
            "tuner/round       |0                 |1                 \n",
            "\n",
            "Epoch 1/8\n",
            "1250/1250 [==============================] - 11s 9ms/step - loss: 1.7823 - accuracy: 0.3525 - val_loss: 1.5946 - val_accuracy: 0.4319\n",
            "Epoch 2/8\n",
            "1250/1250 [==============================] - 11s 9ms/step - loss: 1.5258 - accuracy: 0.4502 - val_loss: 1.4822 - val_accuracy: 0.4772\n",
            "Epoch 3/8\n",
            "1250/1250 [==============================] - 11s 9ms/step - loss: 1.4269 - accuracy: 0.4857 - val_loss: 1.3971 - val_accuracy: 0.5065\n",
            "Epoch 4/8\n",
            "1250/1250 [==============================] - 11s 9ms/step - loss: 1.3553 - accuracy: 0.5133 - val_loss: 1.3380 - val_accuracy: 0.5315\n",
            "Epoch 5/8\n",
            "1250/1250 [==============================] - 13s 10ms/step - loss: 1.3004 - accuracy: 0.5366 - val_loss: 1.2906 - val_accuracy: 0.5507\n",
            "Epoch 6/8\n",
            "1250/1250 [==============================] - 13s 10ms/step - loss: 1.2530 - accuracy: 0.5548 - val_loss: 1.2588 - val_accuracy: 0.5581\n",
            "Epoch 7/8\n",
            " 966/1250 [======================>.......] - ETA: 2s - loss: 1.2111 - accuracy: 0.5697"
          ]
        }
      ]
    },
    {
      "cell_type": "code",
      "metadata": {
        "id": "CdmjPipszFWq"
      },
      "source": [
        "# Parameters of the best model\n",
        "params_best = tuner.get_best_hyperparameters(num_trials=1)[0]\n",
        "params_best.get_config()['values']"
      ],
      "execution_count": null,
      "outputs": []
    },
    {
      "cell_type": "code",
      "metadata": {
        "collapsed": true,
        "id": "UIIc-hdH0YtS"
      },
      "source": [
        "# 10 best training\n",
        "tuner.results_summary()"
      ],
      "execution_count": null,
      "outputs": []
    },
    {
      "cell_type": "code",
      "metadata": {
        "id": "bFjfLuvyDymW"
      },
      "source": [
        "# Get the best model\n",
        "hypermodel = tuner.hypermodel.build(params_best)\n",
        "\n",
        "# Retrain the model\n",
        "history = hypermodel.fit(x_train, y_train, epochs=100, validation_split=0.2, shuffle=True, callbacks = early_stopping, batch_size = 32)"
      ],
      "execution_count": null,
      "outputs": []
    },
    {
      "cell_type": "code",
      "metadata": {
        "id": "1lpZW1KdHuRj"
      },
      "source": [
        "score = hypermodel.evaluate(x_test, y_test, batch_size=128, verbose=0)\n",
        "print(hypermodel.metrics_names)\n",
        "print(score)"
      ],
      "execution_count": null,
      "outputs": []
    },
    {
      "cell_type": "code",
      "metadata": {
        "id": "Xu0vTxCQIOku"
      },
      "source": [
        "hypermodel.summary()"
      ],
      "execution_count": null,
      "outputs": []
    },
    {
      "cell_type": "code",
      "metadata": {
        "id": "eRr-Br5acYCp"
      },
      "source": [
        ""
      ],
      "execution_count": null,
      "outputs": []
    }
  ]
}
